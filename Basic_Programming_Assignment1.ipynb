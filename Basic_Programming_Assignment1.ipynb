{
  "nbformat": 4,
  "nbformat_minor": 0,
  "metadata": {
    "colab": {
      "name": "Basic_Programming_Assignment1.ipynb",
      "provenance": [],
      "collapsed_sections": []
    },
    "kernelspec": {
      "name": "python3",
      "display_name": "Python 3"
    },
    "language_info": {
      "name": "python"
    },
    "accelerator": "TPU"
  },
  "cells": [
    {
      "cell_type": "markdown",
      "metadata": {
        "id": "K9fyLSI0ncUl"
      },
      "source": [
        "Program 1:\n",
        "Python program to print \"Hello Python\""
      ]
    },
    {
      "cell_type": "code",
      "metadata": {
        "colab": {
          "base_uri": "https://localhost:8080/"
        },
        "id": "QpS3uvbnnSkR",
        "outputId": "a0b565b2-1b66-4790-dac3-46996e9ab0de"
      },
      "source": [
        "print('\"Hello Python\"')"
      ],
      "execution_count": null,
      "outputs": [
        {
          "output_type": "stream",
          "text": [
            "\"Hello Python\"\n"
          ],
          "name": "stdout"
        }
      ]
    },
    {
      "cell_type": "markdown",
      "metadata": {
        "id": "pqZkT_eaoNrl"
      },
      "source": [
        "Program 2:\n",
        "Python program to do Arithmatic operations addition and division"
      ]
    },
    {
      "cell_type": "code",
      "metadata": {
        "colab": {
          "base_uri": "https://localhost:8080/"
        },
        "id": "-K17S_vYonQc",
        "outputId": "0e6377d7-c323-4241-9f0e-0cd3416d02bb"
      },
      "source": [
        "a= float(input('Enter value for a:'))\n",
        "b= float(input('Enter value for b:'))\n",
        "Addition=a+b #Performs addition operation\n",
        "print('Performs addition operation: a+b = ',Addition)\n",
        "Division=a/b #Performs division operation\n",
        "print('Performs division operation: a/b = ',Division)"
      ],
      "execution_count": null,
      "outputs": [
        {
          "output_type": "stream",
          "text": [
            "Enter value for a:100\n",
            "Enter value for b:10\n",
            "Performs addition operation: a+b =  110.0\n",
            "Performs division operation: a/b =  10.0\n"
          ],
          "name": "stdout"
        }
      ]
    },
    {
      "cell_type": "markdown",
      "metadata": {
        "id": "rFJgAtk4qSWZ"
      },
      "source": [
        "Program 3:\n",
        "Python program to find area of a triangle"
      ]
    },
    {
      "cell_type": "code",
      "metadata": {
        "colab": {
          "base_uri": "https://localhost:8080/"
        },
        "id": "0ydUdF_io3Wr",
        "outputId": "9082722e-f2aa-45b1-cc95-1b79607ff520"
      },
      "source": [
        "Base = float(input('Enter value for base of the Triangle:'))\n",
        "Height= float(input('Enter value for height of the Triangle:'))\n",
        "Area=((Base*Height)/2) #Finds the area of Triangle\n",
        "print('Area of Triangle is:{}'.format(Area))"
      ],
      "execution_count": null,
      "outputs": [
        {
          "output_type": "stream",
          "text": [
            "Enter value for base of the Triangle:20\n",
            "Enter value for height of the Triangle:5\n",
            "Area of Triangle is:50.0\n"
          ],
          "name": "stdout"
        }
      ]
    },
    {
      "cell_type": "markdown",
      "metadata": {
        "id": "cgmJrh3Wr-fW"
      },
      "source": [
        "Program 4:\n",
        "Python program to swap two variable"
      ]
    },
    {
      "cell_type": "code",
      "metadata": {
        "colab": {
          "base_uri": "https://localhost:8080/"
        },
        "id": "9Dl6iAvNra3y",
        "outputId": "6872e8dc-70f7-4581-d328-d72b4b6ab956"
      },
      "source": [
        "e= input('Enter value for e:')\n",
        "f= input('Enter value for f:')\n",
        "e,f=f,e # This function performs swap operation\n",
        "print(\"swapped values of e and f:\\nNew e is: {} \\nNew f is: {}\".format(e,f))"
      ],
      "execution_count": null,
      "outputs": [
        {
          "output_type": "stream",
          "text": [
            "Enter value for e:e\n",
            "Enter value for f:f\n",
            "swapped values of e and f:\n",
            "New e is: f \n",
            "New f is: e\n"
          ],
          "name": "stdout"
        }
      ]
    },
    {
      "cell_type": "markdown",
      "metadata": {
        "id": "cGnJ2ZjqugyC"
      },
      "source": [
        "Program 5:\n",
        "Python program to generate random number"
      ]
    },
    {
      "cell_type": "code",
      "metadata": {
        "colab": {
          "base_uri": "https://localhost:8080/"
        },
        "id": "IFcC4ALOs46P",
        "outputId": "78956031-4dc1-43d0-d92b-95619bf787ea"
      },
      "source": [
        "import random\n",
        "print(random.randrange(1,20)) # It prints random number in the range of (1,20)"
      ],
      "execution_count": null,
      "outputs": [
        {
          "output_type": "stream",
          "text": [
            "10\n"
          ],
          "name": "stdout"
        }
      ]
    }
  ]
}